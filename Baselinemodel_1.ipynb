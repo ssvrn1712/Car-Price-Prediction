{
 "cells": [
  {
   "cell_type": "code",
   "execution_count": null,
   "metadata": {
    "id": "6W8yIJFygcyz"
   },
   "outputs": [],
   "source": [
    "#importing libraries\n",
    "import numpy as np\n",
    "import pandas as pd\n",
    "import matplotlib.pyplot as plt\n",
    "import matplotlib.patches as mpatches\n",
    "import seaborn as sns\n",
    "import warnings \n",
    "warnings.filterwarnings(\"ignore\")"
   ]
  },
  {
   "cell_type": "code",
   "execution_count": null,
   "metadata": {
    "colab": {
     "base_uri": "https://localhost:8080/"
    },
    "id": "yM7y-gmRhckL",
    "outputId": "3d95566b-a627-4c16-8282-fa0f9f1bc1fa"
   },
   "outputs": [
    {
     "name": "stdout",
     "output_type": "stream",
     "text": [
      "Downloading...\n",
      "From: https://drive.google.com/uc?id=1aQC8kOD1bL5As_LK30NfRQcxBNVKMZqF\n",
      "To: /content/vehicles.pickle\n",
      "922MB [00:13, 67.0MB/s]\n"
     ]
    }
   ],
   "source": [
    "!gdown --id 1aQC8kOD1bL5As_LK30NfRQcxBNVKMZqF"
   ]
  },
  {
   "cell_type": "code",
   "execution_count": null,
   "metadata": {
    "id": "xUWRI-qThgBS"
   },
   "outputs": [],
   "source": [
    "df=pd.read_csv('vehicles.csv')#reading the dataframe using pandas inbuilt read_csv function"
   ]
  },
  {
   "cell_type": "code",
   "execution_count": null,
   "metadata": {
    "id": "d_TL6W-Shsaj"
   },
   "outputs": [],
   "source": [
    "df.head()"
   ]
  },
  {
   "cell_type": "code",
   "execution_count": null,
   "metadata": {
    "id": "jgH1zM8Ch1EQ"
   },
   "outputs": [],
   "source": [
    "#dropping off irrelevant features like Unnamed:0,id,url,region_url,image_url,posting_date,VIN\n",
    "vehicles=df.drop(['Unnamed: 0','id','url','region_url','image_url','posting_date','VIN'],axis=1)"
   ]
  },
  {
   "cell_type": "code",
   "execution_count": null,
   "metadata": {
    "colab": {
     "base_uri": "https://localhost:8080/",
     "height": 17
    },
    "id": "vnS8lcrKiLVK",
    "outputId": "b789ace0-579e-483d-8acf-4b77f656e95e"
   },
   "outputs": [
    {
     "data": {
      "text/html": [
       "        <script type=\"text/javascript\">\n",
       "        window.PlotlyConfig = {MathJaxConfig: 'local'};\n",
       "        if (window.MathJax) {MathJax.Hub.Config({SVG: {font: \"STIX-Web\"}});}\n",
       "        if (typeof require !== 'undefined') {\n",
       "        require.undef(\"plotly\");\n",
       "        requirejs.config({\n",
       "            paths: {\n",
       "                'plotly': ['https://cdn.plot.ly/plotly-latest.min']\n",
       "            }\n",
       "        });\n",
       "        require(['plotly'], function(Plotly) {\n",
       "            window._Plotly = Plotly;\n",
       "        });\n",
       "        }\n",
       "        </script>\n",
       "        "
      ]
     },
     "metadata": {
      "tags": []
     },
     "output_type": "display_data"
    }
   ],
   "source": [
    "import warnings\n",
    "warnings.filterwarnings(\"ignore\")\n",
    "import numpy as np\n",
    "import pandas as pd\n",
    "import seaborn as sns\n",
    "import matplotlib.pyplot as plt\n",
    "from subprocess import check_output\n",
    "%matplotlib inline\n",
    "import plotly.offline as py\n",
    "py.init_notebook_mode(connected=True)\n",
    "import plotly.graph_objs as go\n",
    "import plotly.tools as tls\n",
    "import os\n",
    "import gc\n",
    "\n",
    "import nltk\n",
    "import re\n",
    "from nltk.corpus import stopwords\n",
    "from nltk.stem import PorterStemmer\n",
    "from bs4 import BeautifulSoup\n",
    "import re\n",
    "from nltk.corpus import stopwords\n",
    "# This package is used for finding longest common subsequence between two strings\n",
    "# you can write your own dp code for this\n",
    "\n",
    "from nltk.stem import PorterStemmer\n",
    "from bs4 import BeautifulSoup\n",
    "from sklearn.manifold import TSNE\n",
    "# Import the Required lib packages for WORD-Cloud generation\n",
    "# https://stackoverflow.com/questions/45625434/how-to-install-wordcloud-in-python3-6\n",
    "from wordcloud import WordCloud, STOPWORDS\n",
    "from os import path\n",
    "from PIL import Image\n"
   ]
  },
  {
   "cell_type": "code",
   "execution_count": null,
   "metadata": {
    "colab": {
     "base_uri": "https://localhost:8080/"
    },
    "id": "f3pgTHhnkRSe",
    "outputId": "c840155c-9424-423f-a525-be9278130fa0"
   },
   "outputs": [
    {
     "name": "stdout",
     "output_type": "stream",
     "text": [
      "[nltk_data] Downloading package stopwords to /root/nltk_data...\n",
      "[nltk_data]   Unzipping corpora/stopwords.zip.\n"
     ]
    },
    {
     "data": {
      "text/plain": [
       "True"
      ]
     },
     "execution_count": 9,
     "metadata": {
      "tags": []
     },
     "output_type": "execute_result"
    }
   ],
   "source": [
    "nltk.download('stopwords')\n"
   ]
  },
  {
   "cell_type": "markdown",
   "metadata": {
    "id": "5JIC6kULuUPt"
   },
   "source": [
    "Data Preprocessing for description feature"
   ]
  },
  {
   "cell_type": "code",
   "execution_count": null,
   "metadata": {
    "id": "kw0OOha7ifMd"
   },
   "outputs": [],
   "source": [
    "STOP_WORDS = stopwords.words(\"english\")\n",
    "\n",
    "\n",
    "def preprocess(x):\n",
    "    x = str(x).lower()\n",
    "    x = x.replace(\",000,000\", \"m\").replace(\",000\", \"k\").replace(\"′\", \"'\").replace(\"’\", \"'\")\\\n",
    "                           .replace(\"won't\", \"will not\").replace(\"cannot\", \"can not\").replace(\"can't\", \"can not\")\\\n",
    "                           .replace(\"n't\", \" not\").replace(\"what's\", \"what is\").replace(\"it's\", \"it is\")\\\n",
    "                           .replace(\"'ve\", \" have\").replace(\"i'm\", \"i am\").replace(\"'re\", \" are\")\\\n",
    "                           .replace(\"he's\", \"he is\").replace(\"she's\", \"she is\").replace(\"'s\", \" own\")\\\n",
    "                           .replace(\"%\", \" percent \").replace(\"₹\", \" rupee \").replace(\"$\", \" dollar \")\\\n",
    "                           .replace(\"€\", \" euro \").replace(\"'ll\", \" will\")\n",
    "    x = re.sub(r\"([0-9]+)000000\", r\"\\1m\", x)\n",
    "    x = re.sub(r\"([0-9]+)000\", r\"\\1k\", x)\n",
    "    \n",
    "    \n",
    "    porter = PorterStemmer()\n",
    "    pattern = re.compile('\\W')\n",
    "    \n",
    "    if type(x) == type(''):\n",
    "        x = re.sub(pattern, ' ', x)\n",
    "    \n",
    "    \n",
    "    if type(x) == type(''):\n",
    "        x = porter.stem(x)\n",
    "        example1 = BeautifulSoup(x)\n",
    "        x = example1.get_text()\n",
    "               \n",
    "    \n",
    "    return x\n",
    "    "
   ]
  },
  {
   "cell_type": "code",
   "execution_count": null,
   "metadata": {
    "id": "gKARfL6tju4t"
   },
   "outputs": [],
   "source": [
    "vehicles['description']=vehicles['description'].apply(preprocess)"
   ]
  },
  {
   "cell_type": "code",
   "execution_count": null,
   "metadata": {
    "id": "OCPUHDn_qws5"
   },
   "outputs": [],
   "source": [
    "vehicles['description']=vehicles['description'].apply(lambda words: ' '.join(word.lower() for word in words.split() if word not in STOP_WORDS))"
   ]
  },
  {
   "cell_type": "code",
   "execution_count": null,
   "metadata": {
    "id": "inoZC7tEvRA0"
   },
   "outputs": [],
   "source": [
    "vehicles['description']=vehicles['description'].apply(lambda x:re.sub('[^A-Za-z0-9]+', ' ',x))"
   ]
  },
  {
   "cell_type": "code",
   "execution_count": null,
   "metadata": {
    "id": "tyvfNqHb2pc3"
   },
   "outputs": [],
   "source": [
    "vehicles['description']=vehicles['description'].apply(lambda x:re.sub(r'[0-9]+', '',x))"
   ]
  },
  {
   "cell_type": "code",
   "execution_count": null,
   "metadata": {
    "id": "JKBWqwN23Jox"
   },
   "outputs": [],
   "source": [
    "vehicles['description']=vehicles['description'].apply(lambda x:re.sub(' +', ' ', x))\n"
   ]
  },
  {
   "cell_type": "code",
   "execution_count": null,
   "metadata": {
    "colab": {
     "base_uri": "https://localhost:8080/",
     "height": 103
    },
    "id": "TPsnDVyHkFZl",
    "outputId": "d6301b88-a3ba-4caf-d285-982ed8398bb9"
   },
   "outputs": [
    {
     "data": {
      "application/vnd.google.colaboratory.intrinsic+json": {
       "type": "string"
      },
      "text/plain": [
       "'clean bmw x i beautiful rare blue water metallic exterior tan interior color combination speed automatic transmission awd cd fm radio cold c serviced along w oil change alloy wheels split rear seats driver passenger air bags multi function remote w keyless entry electric windows door locks cruise control lighted vanity mirrors many extras missing tow eye cover rear dollar replace tires percent tread remaining blemishes exterior scuffs scratches normal wear tear would make excellent safe run around town college vehicle title hand priced sell'"
      ]
     },
     "execution_count": 37,
     "metadata": {
      "tags": []
     },
     "output_type": "execute_result"
    }
   ],
   "source": [
    "vehicles.loc[2,'description']"
   ]
  },
  {
   "cell_type": "code",
   "execution_count": null,
   "metadata": {
    "id": "Ye2nKg-66dEv"
   },
   "outputs": [],
   "source": [
    "import pickle\n",
    "with open('vehicles.pickle', 'wb') as handle:\n",
    "    pickle.dump(vehicles, handle)"
   ]
  },
  {
   "cell_type": "code",
   "execution_count": null,
   "metadata": {
    "id": "KubuDKwX_Ony"
   },
   "outputs": [],
   "source": [
    "import phik\n",
    "from phik import resources, report"
   ]
  },
  {
   "cell_type": "code",
   "execution_count": null,
   "metadata": {
    "id": "P-yUU5N6AbfG"
   },
   "outputs": [],
   "source": [
    "import pickle\n",
    "inifile=open('vehicles.pickle','rb')\n",
    "vehicles=pickle.load(inifile)\n"
   ]
  },
  {
   "cell_type": "markdown",
   "metadata": {
    "id": "wR6KTkrHuiVh"
   },
   "source": [
    "Correlation matrix b/w the features"
   ]
  },
  {
   "cell_type": "code",
   "execution_count": null,
   "metadata": {
    "colab": {
     "base_uri": "https://localhost:8080/",
     "height": 678
    },
    "id": "gsO4cSza_pCF",
    "outputId": "5b3b8204-3f04-400c-eff1-bb0dc08a1a2b"
   },
   "outputs": [
    {
     "name": "stdout",
     "output_type": "stream",
     "text": [
      "interval columns not set, guessing: ['price', 'year', 'odometer', 'lat', 'long']\n"
     ]
    },
    {
     "name": "stderr",
     "output_type": "stream",
     "text": [
      "/usr/local/lib/python3.7/dist-packages/phik/data_quality.py:60: UserWarning: The number of unique values of variable model is large: 31520. Are you sure this is not an interval variable? Analysis for pairs of variables including model can be slow.\n",
      "  .format(col, df[col].nunique())\n"
     ]
    },
    {
     "data": {
      "text/html": [
       "<div>\n",
       "<style scoped>\n",
       "    .dataframe tbody tr th:only-of-type {\n",
       "        vertical-align: middle;\n",
       "    }\n",
       "\n",
       "    .dataframe tbody tr th {\n",
       "        vertical-align: top;\n",
       "    }\n",
       "\n",
       "    .dataframe thead th {\n",
       "        text-align: right;\n",
       "    }\n",
       "</style>\n",
       "<table border=\"1\" class=\"dataframe\">\n",
       "  <thead>\n",
       "    <tr style=\"text-align: right;\">\n",
       "      <th></th>\n",
       "      <th>region</th>\n",
       "      <th>price</th>\n",
       "      <th>year</th>\n",
       "      <th>manufacturer</th>\n",
       "      <th>model</th>\n",
       "      <th>condition</th>\n",
       "      <th>cylinders</th>\n",
       "      <th>fuel</th>\n",
       "      <th>odometer</th>\n",
       "      <th>title_status</th>\n",
       "      <th>transmission</th>\n",
       "      <th>drive</th>\n",
       "      <th>size</th>\n",
       "      <th>type</th>\n",
       "      <th>paint_color</th>\n",
       "      <th>state</th>\n",
       "      <th>lat</th>\n",
       "      <th>long</th>\n",
       "    </tr>\n",
       "  </thead>\n",
       "  <tbody>\n",
       "    <tr>\n",
       "      <th>region</th>\n",
       "      <td>1.000000</td>\n",
       "      <td>0.007235</td>\n",
       "      <td>0.168316</td>\n",
       "      <td>0.359853</td>\n",
       "      <td>0.930909</td>\n",
       "      <td>0.338174</td>\n",
       "      <td>0.252824</td>\n",
       "      <td>0.257021</td>\n",
       "      <td>0.000000</td>\n",
       "      <td>0.248687</td>\n",
       "      <td>0.289072</td>\n",
       "      <td>0.420982</td>\n",
       "      <td>0.281284</td>\n",
       "      <td>0.360340</td>\n",
       "      <td>0.203385</td>\n",
       "      <td>0.999951</td>\n",
       "      <td>0.839512</td>\n",
       "      <td>0.864222</td>\n",
       "    </tr>\n",
       "    <tr>\n",
       "      <th>price</th>\n",
       "      <td>0.007235</td>\n",
       "      <td>1.000000</td>\n",
       "      <td>0.025356</td>\n",
       "      <td>0.000000</td>\n",
       "      <td>0.000000</td>\n",
       "      <td>0.000000</td>\n",
       "      <td>0.000000</td>\n",
       "      <td>0.001505</td>\n",
       "      <td>0.707105</td>\n",
       "      <td>0.000000</td>\n",
       "      <td>0.000000</td>\n",
       "      <td>0.000000</td>\n",
       "      <td>0.000000</td>\n",
       "      <td>0.000000</td>\n",
       "      <td>0.000000</td>\n",
       "      <td>0.000000</td>\n",
       "      <td>0.000000</td>\n",
       "      <td>0.000000</td>\n",
       "    </tr>\n",
       "    <tr>\n",
       "      <th>year</th>\n",
       "      <td>0.168316</td>\n",
       "      <td>0.025356</td>\n",
       "      <td>1.000000</td>\n",
       "      <td>0.260431</td>\n",
       "      <td>0.975571</td>\n",
       "      <td>0.210524</td>\n",
       "      <td>0.157098</td>\n",
       "      <td>0.129585</td>\n",
       "      <td>0.000000</td>\n",
       "      <td>0.155263</td>\n",
       "      <td>0.334645</td>\n",
       "      <td>0.278891</td>\n",
       "      <td>0.074196</td>\n",
       "      <td>0.207356</td>\n",
       "      <td>0.182834</td>\n",
       "      <td>0.092438</td>\n",
       "      <td>0.032187</td>\n",
       "      <td>0.032970</td>\n",
       "    </tr>\n",
       "    <tr>\n",
       "      <th>manufacturer</th>\n",
       "      <td>0.359853</td>\n",
       "      <td>0.000000</td>\n",
       "      <td>0.260431</td>\n",
       "      <td>1.000000</td>\n",
       "      <td>0.999978</td>\n",
       "      <td>0.140411</td>\n",
       "      <td>0.692890</td>\n",
       "      <td>0.629945</td>\n",
       "      <td>0.000000</td>\n",
       "      <td>0.074309</td>\n",
       "      <td>0.328577</td>\n",
       "      <td>0.718303</td>\n",
       "      <td>0.462662</td>\n",
       "      <td>0.654022</td>\n",
       "      <td>0.279937</td>\n",
       "      <td>0.237155</td>\n",
       "      <td>0.065319</td>\n",
       "      <td>0.101932</td>\n",
       "    </tr>\n",
       "    <tr>\n",
       "      <th>model</th>\n",
       "      <td>0.930909</td>\n",
       "      <td>0.000000</td>\n",
       "      <td>0.975571</td>\n",
       "      <td>0.999978</td>\n",
       "      <td>1.000000</td>\n",
       "      <td>0.747157</td>\n",
       "      <td>0.969565</td>\n",
       "      <td>0.952256</td>\n",
       "      <td>0.000000</td>\n",
       "      <td>0.696989</td>\n",
       "      <td>0.908828</td>\n",
       "      <td>0.966964</td>\n",
       "      <td>0.855752</td>\n",
       "      <td>0.977829</td>\n",
       "      <td>0.768657</td>\n",
       "      <td>0.828284</td>\n",
       "      <td>0.722142</td>\n",
       "      <td>0.792295</td>\n",
       "    </tr>\n",
       "    <tr>\n",
       "      <th>condition</th>\n",
       "      <td>0.338174</td>\n",
       "      <td>0.000000</td>\n",
       "      <td>0.210524</td>\n",
       "      <td>0.140411</td>\n",
       "      <td>0.747157</td>\n",
       "      <td>1.000000</td>\n",
       "      <td>0.159209</td>\n",
       "      <td>0.127024</td>\n",
       "      <td>0.000000</td>\n",
       "      <td>0.321718</td>\n",
       "      <td>0.528358</td>\n",
       "      <td>0.217358</td>\n",
       "      <td>0.072554</td>\n",
       "      <td>0.287503</td>\n",
       "      <td>0.142179</td>\n",
       "      <td>0.192519</td>\n",
       "      <td>0.056490</td>\n",
       "      <td>0.097790</td>\n",
       "    </tr>\n",
       "    <tr>\n",
       "      <th>cylinders</th>\n",
       "      <td>0.252824</td>\n",
       "      <td>0.000000</td>\n",
       "      <td>0.157098</td>\n",
       "      <td>0.692890</td>\n",
       "      <td>0.969565</td>\n",
       "      <td>0.159209</td>\n",
       "      <td>1.000000</td>\n",
       "      <td>0.362798</td>\n",
       "      <td>0.000000</td>\n",
       "      <td>0.071096</td>\n",
       "      <td>0.203433</td>\n",
       "      <td>0.544134</td>\n",
       "      <td>0.637943</td>\n",
       "      <td>0.519817</td>\n",
       "      <td>0.164994</td>\n",
       "      <td>0.142315</td>\n",
       "      <td>0.039329</td>\n",
       "      <td>0.056118</td>\n",
       "    </tr>\n",
       "    <tr>\n",
       "      <th>fuel</th>\n",
       "      <td>0.257021</td>\n",
       "      <td>0.001505</td>\n",
       "      <td>0.129585</td>\n",
       "      <td>0.629945</td>\n",
       "      <td>0.952256</td>\n",
       "      <td>0.127024</td>\n",
       "      <td>0.362798</td>\n",
       "      <td>1.000000</td>\n",
       "      <td>0.004046</td>\n",
       "      <td>0.033718</td>\n",
       "      <td>0.166436</td>\n",
       "      <td>0.210903</td>\n",
       "      <td>0.156342</td>\n",
       "      <td>0.412950</td>\n",
       "      <td>0.152858</td>\n",
       "      <td>0.152078</td>\n",
       "      <td>0.038682</td>\n",
       "      <td>0.053019</td>\n",
       "    </tr>\n",
       "    <tr>\n",
       "      <th>odometer</th>\n",
       "      <td>0.000000</td>\n",
       "      <td>0.707105</td>\n",
       "      <td>0.000000</td>\n",
       "      <td>0.000000</td>\n",
       "      <td>0.000000</td>\n",
       "      <td>0.000000</td>\n",
       "      <td>0.000000</td>\n",
       "      <td>0.004046</td>\n",
       "      <td>1.000000</td>\n",
       "      <td>0.000000</td>\n",
       "      <td>0.000000</td>\n",
       "      <td>0.000000</td>\n",
       "      <td>0.000000</td>\n",
       "      <td>0.000000</td>\n",
       "      <td>0.000000</td>\n",
       "      <td>0.000000</td>\n",
       "      <td>0.000000</td>\n",
       "      <td>0.000000</td>\n",
       "    </tr>\n",
       "    <tr>\n",
       "      <th>title_status</th>\n",
       "      <td>0.248687</td>\n",
       "      <td>0.000000</td>\n",
       "      <td>0.155263</td>\n",
       "      <td>0.074309</td>\n",
       "      <td>0.696989</td>\n",
       "      <td>0.321718</td>\n",
       "      <td>0.071096</td>\n",
       "      <td>0.033718</td>\n",
       "      <td>0.000000</td>\n",
       "      <td>1.000000</td>\n",
       "      <td>0.117446</td>\n",
       "      <td>0.099906</td>\n",
       "      <td>0.030390</td>\n",
       "      <td>0.068057</td>\n",
       "      <td>0.054952</td>\n",
       "      <td>0.160017</td>\n",
       "      <td>0.028926</td>\n",
       "      <td>0.041467</td>\n",
       "    </tr>\n",
       "    <tr>\n",
       "      <th>transmission</th>\n",
       "      <td>0.289072</td>\n",
       "      <td>0.000000</td>\n",
       "      <td>0.334645</td>\n",
       "      <td>0.328577</td>\n",
       "      <td>0.908828</td>\n",
       "      <td>0.528358</td>\n",
       "      <td>0.203433</td>\n",
       "      <td>0.166436</td>\n",
       "      <td>0.000000</td>\n",
       "      <td>0.117446</td>\n",
       "      <td>1.000000</td>\n",
       "      <td>0.303699</td>\n",
       "      <td>0.144768</td>\n",
       "      <td>0.420832</td>\n",
       "      <td>0.211789</td>\n",
       "      <td>0.191406</td>\n",
       "      <td>0.015087</td>\n",
       "      <td>0.129334</td>\n",
       "    </tr>\n",
       "    <tr>\n",
       "      <th>drive</th>\n",
       "      <td>0.420982</td>\n",
       "      <td>0.000000</td>\n",
       "      <td>0.278891</td>\n",
       "      <td>0.718303</td>\n",
       "      <td>0.966964</td>\n",
       "      <td>0.217358</td>\n",
       "      <td>0.544134</td>\n",
       "      <td>0.210903</td>\n",
       "      <td>0.000000</td>\n",
       "      <td>0.099906</td>\n",
       "      <td>0.303699</td>\n",
       "      <td>1.000000</td>\n",
       "      <td>0.254932</td>\n",
       "      <td>0.723880</td>\n",
       "      <td>0.252424</td>\n",
       "      <td>0.375649</td>\n",
       "      <td>0.153584</td>\n",
       "      <td>0.101113</td>\n",
       "    </tr>\n",
       "    <tr>\n",
       "      <th>size</th>\n",
       "      <td>0.281284</td>\n",
       "      <td>0.000000</td>\n",
       "      <td>0.074196</td>\n",
       "      <td>0.462662</td>\n",
       "      <td>0.855752</td>\n",
       "      <td>0.072554</td>\n",
       "      <td>0.637943</td>\n",
       "      <td>0.156342</td>\n",
       "      <td>0.000000</td>\n",
       "      <td>0.030390</td>\n",
       "      <td>0.144768</td>\n",
       "      <td>0.254932</td>\n",
       "      <td>1.000000</td>\n",
       "      <td>0.533895</td>\n",
       "      <td>0.188304</td>\n",
       "      <td>0.183806</td>\n",
       "      <td>0.044856</td>\n",
       "      <td>0.078748</td>\n",
       "    </tr>\n",
       "    <tr>\n",
       "      <th>type</th>\n",
       "      <td>0.360340</td>\n",
       "      <td>0.000000</td>\n",
       "      <td>0.207356</td>\n",
       "      <td>0.654022</td>\n",
       "      <td>0.977829</td>\n",
       "      <td>0.287503</td>\n",
       "      <td>0.519817</td>\n",
       "      <td>0.412950</td>\n",
       "      <td>0.000000</td>\n",
       "      <td>0.068057</td>\n",
       "      <td>0.420832</td>\n",
       "      <td>0.723880</td>\n",
       "      <td>0.533895</td>\n",
       "      <td>1.000000</td>\n",
       "      <td>0.230007</td>\n",
       "      <td>0.232015</td>\n",
       "      <td>0.055320</td>\n",
       "      <td>0.091765</td>\n",
       "    </tr>\n",
       "    <tr>\n",
       "      <th>paint_color</th>\n",
       "      <td>0.203385</td>\n",
       "      <td>0.000000</td>\n",
       "      <td>0.182834</td>\n",
       "      <td>0.279937</td>\n",
       "      <td>0.768657</td>\n",
       "      <td>0.142179</td>\n",
       "      <td>0.164994</td>\n",
       "      <td>0.152858</td>\n",
       "      <td>0.000000</td>\n",
       "      <td>0.054952</td>\n",
       "      <td>0.211789</td>\n",
       "      <td>0.252424</td>\n",
       "      <td>0.188304</td>\n",
       "      <td>0.230007</td>\n",
       "      <td>1.000000</td>\n",
       "      <td>0.129731</td>\n",
       "      <td>0.028817</td>\n",
       "      <td>0.053136</td>\n",
       "    </tr>\n",
       "    <tr>\n",
       "      <th>state</th>\n",
       "      <td>0.999951</td>\n",
       "      <td>0.000000</td>\n",
       "      <td>0.092438</td>\n",
       "      <td>0.237155</td>\n",
       "      <td>0.828284</td>\n",
       "      <td>0.192519</td>\n",
       "      <td>0.142315</td>\n",
       "      <td>0.152078</td>\n",
       "      <td>0.000000</td>\n",
       "      <td>0.160017</td>\n",
       "      <td>0.191406</td>\n",
       "      <td>0.375649</td>\n",
       "      <td>0.183806</td>\n",
       "      <td>0.232015</td>\n",
       "      <td>0.129731</td>\n",
       "      <td>1.000000</td>\n",
       "      <td>0.814421</td>\n",
       "      <td>0.842970</td>\n",
       "    </tr>\n",
       "    <tr>\n",
       "      <th>lat</th>\n",
       "      <td>0.839512</td>\n",
       "      <td>0.000000</td>\n",
       "      <td>0.032187</td>\n",
       "      <td>0.065319</td>\n",
       "      <td>0.722142</td>\n",
       "      <td>0.056490</td>\n",
       "      <td>0.039329</td>\n",
       "      <td>0.038682</td>\n",
       "      <td>0.000000</td>\n",
       "      <td>0.028926</td>\n",
       "      <td>0.015087</td>\n",
       "      <td>0.153584</td>\n",
       "      <td>0.044856</td>\n",
       "      <td>0.055320</td>\n",
       "      <td>0.028817</td>\n",
       "      <td>0.814421</td>\n",
       "      <td>1.000000</td>\n",
       "      <td>0.615750</td>\n",
       "    </tr>\n",
       "    <tr>\n",
       "      <th>long</th>\n",
       "      <td>0.864222</td>\n",
       "      <td>0.000000</td>\n",
       "      <td>0.032970</td>\n",
       "      <td>0.101932</td>\n",
       "      <td>0.792295</td>\n",
       "      <td>0.097790</td>\n",
       "      <td>0.056118</td>\n",
       "      <td>0.053019</td>\n",
       "      <td>0.000000</td>\n",
       "      <td>0.041467</td>\n",
       "      <td>0.129334</td>\n",
       "      <td>0.101113</td>\n",
       "      <td>0.078748</td>\n",
       "      <td>0.091765</td>\n",
       "      <td>0.053136</td>\n",
       "      <td>0.842970</td>\n",
       "      <td>0.615750</td>\n",
       "      <td>1.000000</td>\n",
       "    </tr>\n",
       "  </tbody>\n",
       "</table>\n",
       "</div>"
      ],
      "text/plain": [
       "                region     price      year  ...     state       lat      long\n",
       "region        1.000000  0.007235  0.168316  ...  0.999951  0.839512  0.864222\n",
       "price         0.007235  1.000000  0.025356  ...  0.000000  0.000000  0.000000\n",
       "year          0.168316  0.025356  1.000000  ...  0.092438  0.032187  0.032970\n",
       "manufacturer  0.359853  0.000000  0.260431  ...  0.237155  0.065319  0.101932\n",
       "model         0.930909  0.000000  0.975571  ...  0.828284  0.722142  0.792295\n",
       "condition     0.338174  0.000000  0.210524  ...  0.192519  0.056490  0.097790\n",
       "cylinders     0.252824  0.000000  0.157098  ...  0.142315  0.039329  0.056118\n",
       "fuel          0.257021  0.001505  0.129585  ...  0.152078  0.038682  0.053019\n",
       "odometer      0.000000  0.707105  0.000000  ...  0.000000  0.000000  0.000000\n",
       "title_status  0.248687  0.000000  0.155263  ...  0.160017  0.028926  0.041467\n",
       "transmission  0.289072  0.000000  0.334645  ...  0.191406  0.015087  0.129334\n",
       "drive         0.420982  0.000000  0.278891  ...  0.375649  0.153584  0.101113\n",
       "size          0.281284  0.000000  0.074196  ...  0.183806  0.044856  0.078748\n",
       "type          0.360340  0.000000  0.207356  ...  0.232015  0.055320  0.091765\n",
       "paint_color   0.203385  0.000000  0.182834  ...  0.129731  0.028817  0.053136\n",
       "state         0.999951  0.000000  0.092438  ...  1.000000  0.814421  0.842970\n",
       "lat           0.839512  0.000000  0.032187  ...  0.814421  1.000000  0.615750\n",
       "long          0.864222  0.000000  0.032970  ...  0.842970  0.615750  1.000000\n",
       "\n",
       "[18 rows x 18 columns]"
      ]
     },
     "execution_count": 8,
     "metadata": {
      "tags": []
     },
     "output_type": "execute_result"
    }
   ],
   "source": [
    "vehicles.drop('description',axis=1).phik_matrix()"
   ]
  },
  {
   "cell_type": "code",
   "execution_count": null,
   "metadata": {
    "id": "-KfyDzpaE9qh"
   },
   "outputs": [],
   "source": [
    "#price is highly correlated to odometer so odometer is the most imp feature\n",
    "#model has almost very high correlation with every other feature.\n",
    "#state is highly correlated to region,lat,long.\n",
    "\n"
   ]
  },
  {
   "cell_type": "code",
   "execution_count": null,
   "metadata": {
    "id": "p-T7tS-XRUY7"
   },
   "outputs": [],
   "source": [
    "dropping highly correlated features. i.e State,Region,model"
   ]
  },
  {
   "cell_type": "code",
   "execution_count": null,
   "metadata": {
    "id": "1FLU8q_4Rk7s"
   },
   "outputs": [],
   "source": [
    "vehicles=vehicles.drop(['state','region','model'],axis=1)"
   ]
  },
  {
   "cell_type": "markdown",
   "metadata": {
    "id": "wvut1K0m1Mlv"
   },
   "source": [
    "Randomly filling null values"
   ]
  },
  {
   "cell_type": "code",
   "execution_count": null,
   "metadata": {
    "id": "60mhcp8fHXnX"
   },
   "outputs": [],
   "source": [
    "import random\n",
    "for i in vehicles.columns:\n",
    "  vehicles[i]=vehicles[i].fillna(random.choice(vehicles[vehicles[i] != np.nan][i]))"
   ]
  },
  {
   "cell_type": "markdown",
   "metadata": {
    "id": "0kreESlIuvTM"
   },
   "source": [
    "Train-Test Split"
   ]
  },
  {
   "cell_type": "code",
   "execution_count": null,
   "metadata": {
    "id": "10cGEygC9OYM"
   },
   "outputs": [],
   "source": [
    "from sklearn.preprocessing import StandardScaler\n",
    "from sklearn.model_selection import train_test_split"
   ]
  },
  {
   "cell_type": "code",
   "execution_count": null,
   "metadata": {
    "id": "QY3iynRb9jwN"
   },
   "outputs": [],
   "source": [
    "X=vehicles.drop('price',axis=1)\n",
    "y=vehicles['price']"
   ]
  },
  {
   "cell_type": "code",
   "execution_count": null,
   "metadata": {
    "id": "gzv4g9M19VWD"
   },
   "outputs": [],
   "source": [
    "x_train,x_test,y_train,y_test=train_test_split(X,y,test_size =0.2,random_state=21)"
   ]
  },
  {
   "cell_type": "markdown",
   "metadata": {
    "id": "40G1axI9uyu4"
   },
   "source": [
    "Scaling the numerical Columns\n"
   ]
  },
  {
   "cell_type": "code",
   "execution_count": null,
   "metadata": {
    "id": "xpEmkTYI9r4O"
   },
   "outputs": [],
   "source": [
    "scaler=StandardScaler()"
   ]
  },
  {
   "cell_type": "code",
   "execution_count": null,
   "metadata": {
    "id": "N-NSv6_89zyZ"
   },
   "outputs": [],
   "source": [
    "numerical_columns=['year','odometer','lat','long']\n",
    "categorical_columns=[]\n",
    "for i in X.columns:\n",
    "    if i not in numerical_columns:\n",
    "        categorical_columns.append(i)"
   ]
  },
  {
   "cell_type": "code",
   "execution_count": null,
   "metadata": {
    "id": "LcedFaPh-ZdU"
   },
   "outputs": [],
   "source": [
    "X['year']=X['year'].astype('int64')"
   ]
  },
  {
   "cell_type": "code",
   "execution_count": null,
   "metadata": {
    "colab": {
     "base_uri": "https://localhost:8080/"
    },
    "id": "Ff08hgti96Ol",
    "outputId": "fe7e8170-618b-440c-e93b-f426abbe99ac"
   },
   "outputs": [
    {
     "data": {
      "text/plain": [
       "['manufacturer',\n",
       " 'condition',\n",
       " 'cylinders',\n",
       " 'fuel',\n",
       " 'title_status',\n",
       " 'transmission',\n",
       " 'drive',\n",
       " 'size',\n",
       " 'type',\n",
       " 'paint_color',\n",
       " 'description']"
      ]
     },
     "execution_count": 18,
     "metadata": {
      "tags": []
     },
     "output_type": "execute_result"
    }
   ],
   "source": [
    "#categorical_columns.remove('description')\n",
    "categorical_columns"
   ]
  },
  {
   "cell_type": "code",
   "execution_count": null,
   "metadata": {
    "id": "vmPcgznQ98La"
   },
   "outputs": [],
   "source": [
    "for i in numerical_columns:\n",
    "  x_train[i]=scaler.fit_transform(x_train[i].values.reshape(-1,1))"
   ]
  },
  {
   "cell_type": "code",
   "execution_count": null,
   "metadata": {
    "id": "SjEx_FGz-Ivm"
   },
   "outputs": [],
   "source": [
    "for i in numerical_columns:\n",
    "  x_test[i]=scaler.transform(x_test[i].values.reshape(-1,1))"
   ]
  },
  {
   "cell_type": "code",
   "execution_count": null,
   "metadata": {
    "colab": {
     "base_uri": "https://localhost:8080/"
    },
    "id": "FfNXT9ZWsMvY",
    "outputId": "ab3fe939-c44f-4ab8-f4de-16745c2f0ac2"
   },
   "outputs": [
    {
     "data": {
      "text/plain": [
       "((366570, 15), (91643, 15))"
      ]
     },
     "execution_count": 15,
     "metadata": {
      "tags": []
     },
     "output_type": "execute_result"
    }
   ],
   "source": [
    "x_train.shape,x_test.shape"
   ]
  },
  {
   "cell_type": "markdown",
   "metadata": {
    "id": "D8W64SGZu4ej"
   },
   "source": [
    "Embedding description text using TFIDF Vectorizer"
   ]
  },
  {
   "cell_type": "code",
   "execution_count": null,
   "metadata": {
    "id": "lsmF1QT9IQdl"
   },
   "outputs": [],
   "source": [
    "from sklearn.feature_extraction.text import TfidfVectorizer\n",
    "from sklearn.feature_extraction.text import CountVectorizer"
   ]
  },
  {
   "cell_type": "code",
   "execution_count": null,
   "metadata": {
    "id": "gkU9Bh4b-Pfx"
   },
   "outputs": [],
   "source": [
    "vectorizer = TfidfVectorizer(min_df=5,ngram_range=(1,3), max_features=5000)#max_features=5000 mean dictionary will consist max 10000 words"
   ]
  },
  {
   "cell_type": "code",
   "execution_count": null,
   "metadata": {
    "colab": {
     "base_uri": "https://localhost:8080/"
    },
    "id": "DM52_IQwIeVE",
    "outputId": "2135a501-755d-4938-ef8b-a526b4b63772"
   },
   "outputs": [
    {
     "data": {
      "text/plain": [
       "TfidfVectorizer(analyzer='word', binary=False, decode_error='strict',\n",
       "                dtype=<class 'numpy.float64'>, encoding='utf-8',\n",
       "                input='content', lowercase=True, max_df=1.0, max_features=5000,\n",
       "                min_df=5, ngram_range=(1, 3), norm='l2', preprocessor=None,\n",
       "                smooth_idf=True, stop_words=None, strip_accents=None,\n",
       "                sublinear_tf=False, token_pattern='(?u)\\\\b\\\\w\\\\w+\\\\b',\n",
       "                tokenizer=None, use_idf=True, vocabulary=None)"
      ]
     },
     "execution_count": 18,
     "metadata": {
      "tags": []
     },
     "output_type": "execute_result"
    }
   ],
   "source": [
    "vectorizer.fit(x_train['description'].values)#fitting X-train['description'] to create dictionary of unique words\n"
   ]
  },
  {
   "cell_type": "code",
   "execution_count": null,
   "metadata": {
    "id": "P3dJf12KIkYt"
   },
   "outputs": [],
   "source": [
    "x_train_description = vectorizer.transform(x_train['description'].values)#applying tranform function to X_train,X_test\n"
   ]
  },
  {
   "cell_type": "code",
   "execution_count": null,
   "metadata": {
    "id": "dzOsWB4jPXlM"
   },
   "outputs": [],
   "source": [
    "x_test_description = vectorizer.transform(x_test['description'].values)"
   ]
  },
  {
   "cell_type": "code",
   "execution_count": null,
   "metadata": {
    "colab": {
     "base_uri": "https://localhost:8080/"
    },
    "id": "dR0mP8C-rGKc",
    "outputId": "5320d1e2-4b21-423b-a958-3723db067fbc"
   },
   "outputs": [
    {
     "data": {
      "text/plain": [
       "((366570, 5000), (91643, 5000))"
      ]
     },
     "execution_count": 21,
     "metadata": {
      "tags": []
     },
     "output_type": "execute_result"
    }
   ],
   "source": [
    "x_train_description.shape,x_test_description.shape"
   ]
  },
  {
   "cell_type": "markdown",
   "metadata": {
    "id": "lSx0OF6Mu-95"
   },
   "source": [
    "One hot encoding on remaining Categorical Columns"
   ]
  },
  {
   "cell_type": "code",
   "execution_count": null,
   "metadata": {
    "id": "XjUHEt2dRHcL"
   },
   "outputs": [],
   "source": [
    "vectorizer=CountVectorizer(binary=True)\n",
    "x_train_condition_ohe=vectorizer.fit_transform(x_train['condition'].astype('str').values)\n",
    "x_test_condition_ohe=vectorizer.transform(x_test['condition'].astype('str').values)"
   ]
  },
  {
   "cell_type": "code",
   "execution_count": null,
   "metadata": {
    "id": "0Zj_I0YshdUB"
   },
   "outputs": [],
   "source": [
    "vectorizer=CountVectorizer(binary=True)\n",
    "x_train_cylinders_ohe=vectorizer.fit_transform(x_train['cylinders'].astype('str').values)\n",
    "x_test_cylinders_ohe=vectorizer.transform(x_test['cylinders'].astype('str').values)\n",
    "\n",
    "\n"
   ]
  },
  {
   "cell_type": "code",
   "execution_count": null,
   "metadata": {
    "id": "q6NYnWA7hjKR"
   },
   "outputs": [],
   "source": [
    "vectorizer=CountVectorizer(binary=True)\n",
    "x_train_fuel_ohe=vectorizer.fit_transform(x_train['fuel'].values)\n",
    "x_test_fuel_ohe=vectorizer.transform(x_test['fuel'].values)\n",
    "\n",
    "\n"
   ]
  },
  {
   "cell_type": "code",
   "execution_count": null,
   "metadata": {
    "id": "m533BrWthn69"
   },
   "outputs": [],
   "source": [
    "vectorizer=CountVectorizer(binary=True)\n",
    "x_train_title_ohe=vectorizer.fit_transform(x_train['title_status'].values)\n",
    "x_test_title_ohe=vectorizer.transform(x_test['title_status'].values)\n",
    "\n",
    "\n"
   ]
  },
  {
   "cell_type": "code",
   "execution_count": null,
   "metadata": {
    "id": "jHs3rJAPhqVA"
   },
   "outputs": [],
   "source": [
    "vectorizer=CountVectorizer(binary=True)\n",
    "x_train_transmission_ohe=vectorizer.fit_transform(x_train['transmission'].values)\n",
    "x_test_transmission_ohe=vectorizer.transform(x_test['transmission'].values)\n",
    "\n",
    "\n"
   ]
  },
  {
   "cell_type": "code",
   "execution_count": null,
   "metadata": {
    "id": "QOt6UBTVhsgI"
   },
   "outputs": [],
   "source": [
    "\n",
    "vectorizer=CountVectorizer(binary=True)\n",
    "x_train_type_ohe=vectorizer.fit_transform(x_train['type'].astype('str').values)\n",
    "x_test_type_ohe=vectorizer.transform(x_test['type'].astype('str').values)\n",
    "\n",
    "\n"
   ]
  },
  {
   "cell_type": "code",
   "execution_count": null,
   "metadata": {
    "id": "gNHTAJsYhu5J"
   },
   "outputs": [],
   "source": [
    "vectorizer=CountVectorizer(binary=True)\n",
    "x_train_drive_ohe=vectorizer.fit_transform(x_train['drive'].astype('str').values)\n",
    "x_test_drive_ohe=vectorizer.transform(x_test['drive'].astype('str').values)\n",
    "\n",
    "\n"
   ]
  },
  {
   "cell_type": "code",
   "execution_count": null,
   "metadata": {
    "id": "1G4JYw0RhxeQ"
   },
   "outputs": [],
   "source": [
    "vectorizer=CountVectorizer(binary=True)\n",
    "x_train_paint_color_ohe=vectorizer.fit_transform(x_train['paint_color'].astype('str').values)\n",
    "x_test_paint_color_ohe=vectorizer.transform(x_test['paint_color'].astype('str').values)\n",
    "\n",
    "\n"
   ]
  },
  {
   "cell_type": "code",
   "execution_count": null,
   "metadata": {
    "id": "HhAAlaseimD9"
   },
   "outputs": [],
   "source": [
    "vectorizer=CountVectorizer(binary=True)\n",
    "x_train_size_ohe=vectorizer.fit_transform(x_train['size'].astype('str').values)\n",
    "x_test_size_ohe=vectorizer.transform(x_test['size'].astype('str').values)\n",
    "\n",
    "\n"
   ]
  },
  {
   "cell_type": "code",
   "execution_count": null,
   "metadata": {
    "id": "dHLnxf9oi6x5"
   },
   "outputs": [],
   "source": [
    "vectorizer=CountVectorizer(binary=True)\n",
    "x_train_mf_ohe=vectorizer.fit_transform(x_train['manufacturer'].astype('str').values)\n",
    "x_test_mf_ohe=vectorizer.transform(x_test['manufacturer'].astype('str').values)\n",
    "\n",
    "\n"
   ]
  },
  {
   "cell_type": "code",
   "execution_count": null,
   "metadata": {
    "id": "4-6_IsI_jf52"
   },
   "outputs": [],
   "source": [
    "x_odometer_normalize=x_train['odometer'].values.reshape(-1,1)\n",
    "x_year_normalize=x_train['year'].values.reshape(-1,1)\n",
    "x_lat_normalize=x_train['lat'].values.reshape(-1,1)\n",
    "x_long_normalize=x_train['long'].values.reshape(-1,1)\n"
   ]
  },
  {
   "cell_type": "code",
   "execution_count": null,
   "metadata": {
    "id": "AXjWGLRXj4_X"
   },
   "outputs": [],
   "source": [
    "x_odometer_normalize_test=x_test['odometer'].values.reshape(-1,1)\n",
    "x_year_normalize_test=x_test['year'].values.reshape(-1,1)\n",
    "x_lat_normalize_test=x_test['lat'].values.reshape(-1,1)\n",
    "x_long_normalize_test=x_test['long'].values.reshape(-1,1)\n"
   ]
  },
  {
   "cell_type": "code",
   "execution_count": null,
   "metadata": {
    "id": "r6MOaqsZj-co"
   },
   "outputs": [],
   "source": [
    "from scipy.sparse import hstack\n",
    "X_train_total=hstack((x_train_condition_ohe,x_train_cylinders_ohe,x_train_fuel_ohe,x_train_title_ohe,x_train_transmission_ohe,x_train_type_ohe,x_train_drive_ohe,x_train_paint_color_ohe,x_train_mf_ohe,x_train_size_ohe,x_train_description,x_odometer_normalize,x_year_normalize,x_lat_normalize,x_long_normalize)).tocsr()"
   ]
  },
  {
   "cell_type": "code",
   "execution_count": null,
   "metadata": {
    "id": "e7UEJQNHluX3"
   },
   "outputs": [],
   "source": [
    "X_test_total=hstack((x_test_condition_ohe,x_test_cylinders_ohe,x_test_fuel_ohe,x_test_title_ohe,x_test_transmission_ohe,x_test_type_ohe,x_test_drive_ohe,x_test_paint_color_ohe,x_test_mf_ohe,x_test_size_ohe,x_test_description,x_odometer_normalize_test,x_year_normalize_test,x_lat_normalize_test,x_long_normalize_test)).tocsr()"
   ]
  },
  {
   "cell_type": "code",
   "execution_count": null,
   "metadata": {
    "id": "Uy4rfhfA-HX9"
   },
   "outputs": [],
   "source": [
    "with open('x_train_final.pickle', 'wb') as handle:\n",
    "    pickle.dump(X_train_total, handle)\n",
    "with open('x_test_final.pickle', 'wb') as handle:\n",
    "    pickle.dump(X_test_total, handle)"
   ]
  },
  {
   "cell_type": "markdown",
   "metadata": {
    "id": "eihK1trQvF54"
   },
   "source": [
    "Models:"
   ]
  },
  {
   "cell_type": "code",
   "execution_count": null,
   "metadata": {
    "id": "57L9uvC0l8Tx"
   },
   "outputs": [],
   "source": [
    "from sklearn.linear_model import LinearRegression\n",
    "from sklearn.linear_model import SGDRegressor\n",
    "from sklearn.svm import SVR\n",
    "from sklearn.linear_model import Lasso\n",
    "from sklearn.linear_model import Ridge"
   ]
  },
  {
   "cell_type": "code",
   "execution_count": null,
   "metadata": {
    "colab": {
     "base_uri": "https://localhost:8080/"
    },
    "id": "JGkeW-ChVXQ1",
    "outputId": "c1607dbe-3211-445e-f7b2-0a138a3f3d7c"
   },
   "outputs": [
    {
     "data": {
      "text/plain": [
       "((366570, 5111), (91643, 5111))"
      ]
     },
     "execution_count": 38,
     "metadata": {
      "tags": []
     },
     "output_type": "execute_result"
    }
   ],
   "source": [
    "X_train_total.shape,X_test_total.shape"
   ]
  },
  {
   "cell_type": "code",
   "execution_count": null,
   "metadata": {
    "colab": {
     "base_uri": "https://localhost:8080/"
    },
    "id": "s2RCMebNfXOJ",
    "outputId": "20010f7e-0097-4a0d-dd34-58c5df7608c6"
   },
   "outputs": [
    {
     "data": {
      "text/plain": [
       "scipy.sparse.csr.csr_matrix"
      ]
     },
     "execution_count": 42,
     "metadata": {
      "tags": []
     },
     "output_type": "execute_result"
    }
   ],
   "source": [
    "type(X_train_total)"
   ]
  },
  {
   "cell_type": "code",
   "execution_count": null,
   "metadata": {
    "id": "rnoODU1HfnAS"
   },
   "outputs": [],
   "source": [
    "import pickle\n",
    "inifile=open('x_train_final.pickle','rb')\n",
    "X_train_total=pickle.load(inifile)\n",
    "inifile=open('x_test_final.pickle','rb')\n",
    "X_test_total=pickle.load(inifile)\n"
   ]
  },
  {
   "cell_type": "markdown",
   "metadata": {
    "id": "TbumZkTAcnpD"
   },
   "source": [
    "The size and dimensionality of dataset is very large so we will reduce the dimensionality using PCA ."
   ]
  },
  {
   "cell_type": "code",
   "execution_count": null,
   "metadata": {
    "id": "GFHP16Q3dmie"
   },
   "outputs": [],
   "source": [
    "from sklearn.decomposition import TruncatedSVD\n",
    "pca = TruncatedSVD(n_components = 200)\n",
    "pca.fit(X_train_total)\n",
    "X_train_reduced = pca.transform(X_train_total)"
   ]
  },
  {
   "cell_type": "code",
   "execution_count": null,
   "metadata": {
    "id": "jFE1eVc4mdW9"
   },
   "outputs": [],
   "source": [
    "X_test_reduced = pca.transform(X_test_total)"
   ]
  },
  {
   "cell_type": "code",
   "execution_count": null,
   "metadata": {
    "colab": {
     "base_uri": "https://localhost:8080/"
    },
    "id": "ZB267OGAjHRA",
    "outputId": "9425af08-06a6-4514-c1e5-ea7d330b55b7"
   },
   "outputs": [
    {
     "data": {
      "text/plain": [
       "0.9477639915612277"
      ]
     },
     "execution_count": 21,
     "metadata": {
      "tags": []
     },
     "output_type": "execute_result"
    }
   ],
   "source": [
    "pca.explained_variance_ratio_.sum()#total variance explained after reduction"
   ]
  },
  {
   "cell_type": "code",
   "execution_count": null,
   "metadata": {
    "colab": {
     "base_uri": "https://localhost:8080/"
    },
    "id": "0h4u-D7RdxgP",
    "outputId": "89daff7e-2f87-49bc-fb1e-0e7d143ca84d"
   },
   "outputs": [
    {
     "data": {
      "text/plain": [
       "(366570, 50)"
      ]
     },
     "execution_count": 12,
     "metadata": {
      "tags": []
     },
     "output_type": "execute_result"
    }
   ],
   "source": [
    "X_train_reduced.shape"
   ]
  },
  {
   "cell_type": "markdown",
   "metadata": {
    "id": "mrttrqbTvWm1"
   },
   "source": [
    "Linear Regression"
   ]
  },
  {
   "cell_type": "code",
   "execution_count": null,
   "metadata": {
    "colab": {
     "base_uri": "https://localhost:8080/"
    },
    "id": "pYPrVdsZny9H",
    "outputId": "7059c05e-6a1a-4872-924b-1fe87667e05c"
   },
   "outputs": [
    {
     "data": {
      "text/plain": [
       "LinearRegression(copy_X=True, fit_intercept=True, n_jobs=None, normalize=False)"
      ]
     },
     "execution_count": 34,
     "metadata": {
      "tags": []
     },
     "output_type": "execute_result"
    }
   ],
   "source": [
    "LR=LinearRegression()\n",
    "LR.fit(X_train_reduced,y_train)"
   ]
  },
  {
   "cell_type": "code",
   "execution_count": null,
   "metadata": {
    "id": "coVuCUK9n7hj"
   },
   "outputs": [],
   "source": [
    "from sklearn.metrics import mean_absolute_error\n",
    "from sklearn.metrics import r2_score"
   ]
  },
  {
   "cell_type": "code",
   "execution_count": null,
   "metadata": {
    "colab": {
     "base_uri": "https://localhost:8080/"
    },
    "id": "QdGzvuR9oagS",
    "outputId": "98a9a8e9-5eb4-4f74-f79d-d3be117b6c15"
   },
   "outputs": [
    {
     "data": {
      "text/plain": [
       "2540467.7540413956"
      ]
     },
     "execution_count": 39,
     "metadata": {
      "tags": []
     },
     "output_type": "execute_result"
    }
   ],
   "source": [
    "y_pred=LR.predict(X_test_reduced)\n",
    "mean_absolute_error(y_test,y_pred)"
   ]
  },
  {
   "cell_type": "code",
   "execution_count": null,
   "metadata": {
    "colab": {
     "base_uri": "https://localhost:8080/"
    },
    "id": "YGzxsm-SrPQv",
    "outputId": "e3516a26-e59e-42c6-e4a6-fb97b193da50"
   },
   "outputs": [
    {
     "data": {
      "text/plain": [
       "-1.5793750283665826"
      ]
     },
     "execution_count": 40,
     "metadata": {
      "tags": []
     },
     "output_type": "execute_result"
    }
   ],
   "source": [
    "r2_score(y_test,y_pred)"
   ]
  },
  {
   "cell_type": "markdown",
   "metadata": {
    "id": "QEE2eCOHvZcT"
   },
   "source": [
    "SGD Regression\n"
   ]
  },
  {
   "cell_type": "code",
   "execution_count": null,
   "metadata": {
    "colab": {
     "base_uri": "https://localhost:8080/"
    },
    "id": "v_x-vvHWrTOE",
    "outputId": "ff4b2cc5-d382-4304-9f8d-17e567d9626d"
   },
   "outputs": [
    {
     "data": {
      "text/plain": [
       "SGDRegressor(alpha=0.0001, average=False, early_stopping=False, epsilon=0.1,\n",
       "             eta0=0.01, fit_intercept=True, l1_ratio=0.15,\n",
       "             learning_rate='invscaling', loss='squared_loss', max_iter=1000,\n",
       "             n_iter_no_change=5, penalty='l2', power_t=0.25, random_state=None,\n",
       "             shuffle=True, tol=0.001, validation_fraction=0.1, verbose=0,\n",
       "             warm_start=False)"
      ]
     },
     "execution_count": 41,
     "metadata": {
      "tags": []
     },
     "output_type": "execute_result"
    }
   ],
   "source": [
    "sgd=SGDRegressor()\n",
    "sgd.fit(X_train_reduced,y_train)"
   ]
  },
  {
   "cell_type": "code",
   "execution_count": null,
   "metadata": {
    "colab": {
     "base_uri": "https://localhost:8080/"
    },
    "id": "bR9o2VaVsImx",
    "outputId": "87ba74ba-36ca-4f8f-8b85-40657e128b59"
   },
   "outputs": [
    {
     "data": {
      "text/plain": [
       "646423653456494.8"
      ]
     },
     "execution_count": 42,
     "metadata": {
      "tags": []
     },
     "output_type": "execute_result"
    }
   ],
   "source": [
    "y_pred=sgd.predict(X_test_reduced)\n",
    "mean_absolute_error(y_test,y_pred)"
   ]
  },
  {
   "cell_type": "code",
   "execution_count": null,
   "metadata": {
    "colab": {
     "base_uri": "https://localhost:8080/"
    },
    "id": "1Px7aV1OsS7G",
    "outputId": "561bdc12-ccd5-4636-bb82-547635013c5d"
   },
   "outputs": [
    {
     "data": {
      "text/plain": [
       "-6.340478588099479e+16"
      ]
     },
     "execution_count": 43,
     "metadata": {
      "tags": []
     },
     "output_type": "execute_result"
    }
   ],
   "source": [
    "r2_score(y_test,y_pred)"
   ]
  },
  {
   "cell_type": "markdown",
   "metadata": {
    "id": "DB3iOrB0vc_Y"
   },
   "source": [
    "Lasso Regression"
   ]
  },
  {
   "cell_type": "code",
   "execution_count": null,
   "metadata": {
    "colab": {
     "base_uri": "https://localhost:8080/"
    },
    "id": "j8iRrvzWXaJL",
    "outputId": "0598edcf-12c4-47fb-cf87-5e6cf097f8f6"
   },
   "outputs": [
    {
     "data": {
      "text/plain": [
       "Lasso(alpha=1.0, copy_X=True, fit_intercept=True, max_iter=1000,\n",
       "      normalize=False, positive=False, precompute=False, random_state=None,\n",
       "      selection='cyclic', tol=0.0001, warm_start=False)"
      ]
     },
     "execution_count": 44,
     "metadata": {
      "tags": []
     },
     "output_type": "execute_result"
    }
   ],
   "source": [
    "ls=Lasso()\n",
    "ls.fit(X_train_reduced,y_train)"
   ]
  },
  {
   "cell_type": "code",
   "execution_count": null,
   "metadata": {
    "colab": {
     "base_uri": "https://localhost:8080/"
    },
    "id": "0Qesllu84665",
    "outputId": "3c0b4f08-42ca-4008-acb3-1a10136215ce"
   },
   "outputs": [
    {
     "data": {
      "text/plain": [
       "2537123.805504272"
      ]
     },
     "execution_count": 45,
     "metadata": {
      "tags": []
     },
     "output_type": "execute_result"
    }
   ],
   "source": [
    "y_test_pred=ls.predict(X_test_reduced)\n",
    "mean_absolute_error(y_test,y_test_pred)"
   ]
  },
  {
   "cell_type": "code",
   "execution_count": null,
   "metadata": {
    "colab": {
     "base_uri": "https://localhost:8080/"
    },
    "id": "XLTk7B4cqfdH",
    "outputId": "40ccfa5c-10af-4e0a-9b4a-3cbd3ad3a1ba"
   },
   "outputs": [
    {
     "data": {
      "text/plain": [
       "-1.575091886881328"
      ]
     },
     "execution_count": 46,
     "metadata": {
      "tags": []
     },
     "output_type": "execute_result"
    }
   ],
   "source": [
    "r2_score(y_test,y_test_pred)"
   ]
  },
  {
   "cell_type": "markdown",
   "metadata": {
    "id": "X5OJQ3wnvf3B"
   },
   "source": [
    "Ridge Regression"
   ]
  },
  {
   "cell_type": "code",
   "execution_count": null,
   "metadata": {
    "colab": {
     "base_uri": "https://localhost:8080/"
    },
    "id": "3pO9gURZnl-M",
    "outputId": "961d4b14-5133-4393-9328-e3f0098a303b"
   },
   "outputs": [
    {
     "data": {
      "text/plain": [
       "Ridge(alpha=1.0, copy_X=True, fit_intercept=True, max_iter=None,\n",
       "      normalize=False, random_state=None, solver='auto', tol=0.001)"
      ]
     },
     "execution_count": 59,
     "metadata": {
      "tags": []
     },
     "output_type": "execute_result"
    }
   ],
   "source": [
    "rd=Ridge()\n",
    "rd.fit(X_train_reduced,y_train)"
   ]
  },
  {
   "cell_type": "code",
   "execution_count": null,
   "metadata": {
    "colab": {
     "base_uri": "https://localhost:8080/"
    },
    "id": "SedSc8Akn8ji",
    "outputId": "0dcddf25-ffb1-4241-c286-9d7016c695c9"
   },
   "outputs": [
    {
     "data": {
      "text/plain": [
       "2542873.8608324835"
      ]
     },
     "execution_count": 60,
     "metadata": {
      "tags": []
     },
     "output_type": "execute_result"
    }
   ],
   "source": [
    "y_test_pred=rd.predict(X_test_reduced)\n",
    "mean_absolute_error(y_test,y_test_pred)\n"
   ]
  },
  {
   "cell_type": "code",
   "execution_count": null,
   "metadata": {
    "colab": {
     "base_uri": "https://localhost:8080/"
    },
    "id": "5vVYexW8oHMf",
    "outputId": "76020e99-7326-402f-cd3a-f7135ba6b2dd"
   },
   "outputs": [
    {
     "data": {
      "text/plain": [
       "-1.5810075714599185"
      ]
     },
     "execution_count": 61,
     "metadata": {
      "tags": []
     },
     "output_type": "execute_result"
    }
   ],
   "source": [
    "r2_score(y_test,y_test_pred)\n"
   ]
  },
  {
   "cell_type": "markdown",
   "metadata": {
    "id": "k1YuqOh2vl-d"
   },
   "source": [
    "So linear models are giving r2_score as 1.57 or 1.58 . This is the worst score we can have . "
   ]
  },
  {
   "cell_type": "code",
   "execution_count": null,
   "metadata": {
    "colab": {
     "base_uri": "https://localhost:8080/"
    },
    "id": "vdB46lE05byL",
    "outputId": "c111ad0c-a0f8-4ae1-a7f0-8605be691dde"
   },
   "outputs": [
    {
     "name": "stdout",
     "output_type": "stream",
     "text": [
      "Downloading...\n",
      "From: https://drive.google.com/uc?id=1qKND6Iwqgb-wU_oAPP1W9B_K-noTvN6d\n",
      "To: /content/x_test_final.pickle\n",
      "307MB [00:06, 47.2MB/s]\n"
     ]
    }
   ],
   "source": [
    " !gdown --id 1qKND6Iwqgb-wU_oAPP1W9B_K-noTvN6d"
   ]
  },
  {
   "cell_type": "code",
   "execution_count": null,
   "metadata": {
    "colab": {
     "base_uri": "https://localhost:8080/"
    },
    "id": "GmGJrMBl5pR9",
    "outputId": "4d3964fe-3cf7-47d4-b7de-77df9ff5e44e"
   },
   "outputs": [
    {
     "name": "stdout",
     "output_type": "stream",
     "text": [
      "Downloading...\n",
      "From: https://drive.google.com/uc?id=1HHQueME8w7fSYBOmA4t8-EURHQF6ddGy\n",
      "To: /content/x_train_final.pickle\n",
      "1.23GB [00:15, 80.8MB/s]\n"
     ]
    }
   ],
   "source": [
    " !gdown --id 1HHQueME8w7fSYBOmA4t8-EURHQF6ddGy"
   ]
  },
  {
   "cell_type": "code",
   "execution_count": null,
   "metadata": {
    "id": "FIn3PxIk2_Sl"
   },
   "outputs": [],
   "source": [
    "import pickle\n",
    "inifile=open('x_train_final.pickle','rb')\n",
    "X_train_total=pickle.load(inifile)\n"
   ]
  },
  {
   "cell_type": "code",
   "execution_count": null,
   "metadata": {
    "id": "s7fzymoj6Im8"
   },
   "outputs": [],
   "source": [
    "inifile=open('x_test_final.pickle','rb')\n",
    "X_test_total=pickle.load(inifile)\n"
   ]
  },
  {
   "cell_type": "code",
   "execution_count": null,
   "metadata": {
    "id": "SUBR8yNF6So7"
   },
   "outputs": [],
   "source": [
    "from sklearn.tree import DecisionTreeRegressor"
   ]
  },
  {
   "cell_type": "code",
   "execution_count": null,
   "metadata": {
    "id": "DeISpXxc7yc4"
   },
   "outputs": [],
   "source": [
    "dt=DecisionTreeRegressor()"
   ]
  },
  {
   "cell_type": "code",
   "execution_count": null,
   "metadata": {
    "colab": {
     "base_uri": "https://localhost:8080/"
    },
    "id": "BEW4lNS0725c",
    "outputId": "c03a6f07-4382-4e6e-b57f-8d0d47d05df0"
   },
   "outputs": [
    {
     "data": {
      "text/plain": [
       "DecisionTreeRegressor(ccp_alpha=0.0, criterion='mse', max_depth=None,\n",
       "                      max_features=None, max_leaf_nodes=None,\n",
       "                      min_impurity_decrease=0.0, min_impurity_split=None,\n",
       "                      min_samples_leaf=1, min_samples_split=2,\n",
       "                      min_weight_fraction_leaf=0.0, presort='deprecated',\n",
       "                      random_state=None, splitter='best')"
      ]
     },
     "execution_count": 21,
     "metadata": {
      "tags": []
     },
     "output_type": "execute_result"
    }
   ],
   "source": [
    "dt.fit(X_train_reduced,y_train)"
   ]
  },
  {
   "cell_type": "code",
   "execution_count": null,
   "metadata": {
    "colab": {
     "base_uri": "https://localhost:8080/"
    },
    "id": "jPjdQtcf77Ae",
    "outputId": "f595e99b-f706-4d12-b5eb-275de91c277c"
   },
   "outputs": [
    {
     "data": {
      "text/plain": [
       "108055447.78468622"
      ]
     },
     "execution_count": 24,
     "metadata": {
      "tags": []
     },
     "output_type": "execute_result"
    }
   ],
   "source": [
    "y_test_pred=dt.predict(X_test_reduced)\n",
    "mean_absolute_error(y_test,y_test_pred)\n"
   ]
  },
  {
   "cell_type": "code",
   "execution_count": null,
   "metadata": {
    "colab": {
     "base_uri": "https://localhost:8080/"
    },
    "id": "Gr7mT8DRaZI4",
    "outputId": "d08f77ef-6a8a-4128-8ad0-bd7438ef1c66"
   },
   "outputs": [
    {
     "data": {
      "text/plain": [
       "-14905.49671727345"
      ]
     },
     "execution_count": 25,
     "metadata": {
      "tags": []
     },
     "output_type": "execute_result"
    }
   ],
   "source": [
    "r2_score(y_test,y_test_pred)\n"
   ]
  },
  {
   "cell_type": "code",
   "execution_count": null,
   "metadata": {
    "id": "a3r62a9saiBB"
   },
   "outputs": [],
   "source": [
    "import xgboost\n",
    "from xgboost import XGBRegressor\n"
   ]
  },
  {
   "cell_type": "code",
   "execution_count": null,
   "metadata": {
    "id": "LWNYlfVNazo2"
   },
   "outputs": [],
   "source": [
    "xgb=XGBRegressor(max_depth=3,n_estimators=100)"
   ]
  },
  {
   "cell_type": "code",
   "execution_count": null,
   "metadata": {
    "colab": {
     "base_uri": "https://localhost:8080/"
    },
    "id": "OVX6ZTpNbMeW",
    "outputId": "d375f755-791a-4e95-89db-9e62da7a0abc"
   },
   "outputs": [
    {
     "name": "stdout",
     "output_type": "stream",
     "text": [
      "[10:28:19] WARNING: /workspace/src/objective/regression_obj.cu:152: reg:linear is now deprecated in favor of reg:squarederror.\n"
     ]
    },
    {
     "data": {
      "text/plain": [
       "XGBRegressor(base_score=0.5, booster='gbtree', colsample_bylevel=1,\n",
       "             colsample_bynode=1, colsample_bytree=1, gamma=0,\n",
       "             importance_type='gain', learning_rate=0.1, max_delta_step=0,\n",
       "             max_depth=3, min_child_weight=1, missing=None, n_estimators=100,\n",
       "             n_jobs=1, nthread=None, objective='reg:linear', random_state=0,\n",
       "             reg_alpha=0, reg_lambda=1, scale_pos_weight=1, seed=None,\n",
       "             silent=None, subsample=1, verbosity=1)"
      ]
     },
     "execution_count": 28,
     "metadata": {
      "tags": []
     },
     "output_type": "execute_result"
    }
   ],
   "source": [
    "xgb.fit(X_train_reduced,y_train)"
   ]
  },
  {
   "cell_type": "code",
   "execution_count": null,
   "metadata": {
    "colab": {
     "base_uri": "https://localhost:8080/"
    },
    "id": "w6_xiS3CbSMX",
    "outputId": "bbbaa01d-7511-49c3-c454-a4c68aa3a121"
   },
   "outputs": [
    {
     "data": {
      "text/plain": [
       "14638148.002295934"
      ]
     },
     "execution_count": 30,
     "metadata": {
      "tags": []
     },
     "output_type": "execute_result"
    }
   ],
   "source": [
    "y_test_pred=xgb.predict(X_test_reduced)\n",
    "mean_absolute_error(y_test,y_test_pred)\n"
   ]
  },
  {
   "cell_type": "code",
   "execution_count": null,
   "metadata": {
    "colab": {
     "base_uri": "https://localhost:8080/"
    },
    "id": "STw9DkgJeMQ8",
    "outputId": "4e0f3132-a4f2-41a1-ab01-0cb83bfa30ee"
   },
   "outputs": [
    {
     "data": {
      "text/plain": [
       "-51.163696152078124"
      ]
     },
     "execution_count": 31,
     "metadata": {
      "tags": []
     },
     "output_type": "execute_result"
    }
   ],
   "source": [
    "r2_score(y_test,y_test_pred)\n"
   ]
  },
  {
   "cell_type": "markdown",
   "metadata": {
    "id": "YrZeeJqCwqS7"
   },
   "source": []
  }
 ],
 "metadata": {
  "accelerator": "GPU",
  "colab": {
   "name": "Baselinemodel.ipynb",
   "provenance": []
  },
  "kernelspec": {
   "display_name": "Python 3",
   "language": "python",
   "name": "python3"
  },
  "language_info": {
   "codemirror_mode": {
    "name": "ipython",
    "version": 3
   },
   "file_extension": ".py",
   "mimetype": "text/x-python",
   "name": "python",
   "nbconvert_exporter": "python",
   "pygments_lexer": "ipython3",
   "version": "3.8.3"
  }
 },
 "nbformat": 4,
 "nbformat_minor": 1
}
